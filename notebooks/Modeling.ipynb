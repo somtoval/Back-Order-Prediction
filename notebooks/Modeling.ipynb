{
 "cells": [
  {
   "cell_type": "code",
   "execution_count": 44,
   "metadata": {},
   "outputs": [],
   "source": [
    "from sklearn.decomposition import PCA\n",
    "import pandas as pd\n",
    "from sklearn.model_selection import train_test_split\n",
    "\n",
    "from sklearn.ensemble import (\n",
    "    AdaBoostClassifier,\n",
    "    GradientBoostingClassifier,\n",
    "    RandomForestClassifier,\n",
    ")\n",
    "from sklearn.metrics import accuracy_score\n",
    "from sklearn.neighbors import KNeighborsClassifier\n",
    "from sklearn.tree import DecisionTreeClassifier\n",
    "# from xgboost import XGBClassifier"
   ]
  },
  {
   "cell_type": "code",
   "execution_count": 45,
   "metadata": {},
   "outputs": [
    {
     "data": {
      "text/html": [
       "<div>\n",
       "<style scoped>\n",
       "    .dataframe tbody tr th:only-of-type {\n",
       "        vertical-align: middle;\n",
       "    }\n",
       "\n",
       "    .dataframe tbody tr th {\n",
       "        vertical-align: top;\n",
       "    }\n",
       "\n",
       "    .dataframe thead th {\n",
       "        text-align: right;\n",
       "    }\n",
       "</style>\n",
       "<table border=\"1\" class=\"dataframe\">\n",
       "  <thead>\n",
       "    <tr style=\"text-align: right;\">\n",
       "      <th></th>\n",
       "      <th>national_inv</th>\n",
       "      <th>lead_time</th>\n",
       "      <th>in_transit_qty</th>\n",
       "      <th>forecast_3_month</th>\n",
       "      <th>potential_issue</th>\n",
       "      <th>pieces_past_due</th>\n",
       "      <th>perf_6_month_avg</th>\n",
       "      <th>perf_12_month_avg</th>\n",
       "      <th>local_bo_qty</th>\n",
       "      <th>deck_risk</th>\n",
       "      <th>oe_constraint</th>\n",
       "      <th>ppap_risk</th>\n",
       "      <th>stop_auto_buy</th>\n",
       "      <th>rev_stop</th>\n",
       "      <th>went_on_backorder</th>\n",
       "    </tr>\n",
       "  </thead>\n",
       "  <tbody>\n",
       "    <tr>\n",
       "      <th>0</th>\n",
       "      <td>-0.28</td>\n",
       "      <td>-0.107527</td>\n",
       "      <td>0.0</td>\n",
       "      <td>-0.146179</td>\n",
       "      <td>0.0</td>\n",
       "      <td>0.0</td>\n",
       "      <td>-114.678161</td>\n",
       "      <td>-125.306763</td>\n",
       "      <td>0.0</td>\n",
       "      <td>0.0</td>\n",
       "      <td>0.0</td>\n",
       "      <td>0.0</td>\n",
       "      <td>0.0</td>\n",
       "      <td>0.0</td>\n",
       "      <td>0</td>\n",
       "    </tr>\n",
       "    <tr>\n",
       "      <th>1</th>\n",
       "      <td>-0.20</td>\n",
       "      <td>1.000000</td>\n",
       "      <td>0.0</td>\n",
       "      <td>-0.146179</td>\n",
       "      <td>0.0</td>\n",
       "      <td>0.0</td>\n",
       "      <td>0.252874</td>\n",
       "      <td>0.267874</td>\n",
       "      <td>0.0</td>\n",
       "      <td>0.0</td>\n",
       "      <td>0.0</td>\n",
       "      <td>0.0</td>\n",
       "      <td>0.0</td>\n",
       "      <td>0.0</td>\n",
       "      <td>0</td>\n",
       "    </tr>\n",
       "    <tr>\n",
       "      <th>2</th>\n",
       "      <td>-0.20</td>\n",
       "      <td>-0.107527</td>\n",
       "      <td>0.0</td>\n",
       "      <td>-0.146179</td>\n",
       "      <td>0.0</td>\n",
       "      <td>0.0</td>\n",
       "      <td>-114.678161</td>\n",
       "      <td>-125.306763</td>\n",
       "      <td>0.0</td>\n",
       "      <td>0.0</td>\n",
       "      <td>0.0</td>\n",
       "      <td>0.0</td>\n",
       "      <td>0.0</td>\n",
       "      <td>0.0</td>\n",
       "      <td>0</td>\n",
       "    </tr>\n",
       "    <tr>\n",
       "      <th>3</th>\n",
       "      <td>0.00</td>\n",
       "      <td>0.000000</td>\n",
       "      <td>0.0</td>\n",
       "      <td>-0.146179</td>\n",
       "      <td>0.0</td>\n",
       "      <td>0.0</td>\n",
       "      <td>-0.770115</td>\n",
       "      <td>-0.812176</td>\n",
       "      <td>0.0</td>\n",
       "      <td>0.0</td>\n",
       "      <td>0.0</td>\n",
       "      <td>0.0</td>\n",
       "      <td>0.0</td>\n",
       "      <td>0.0</td>\n",
       "      <td>0</td>\n",
       "    </tr>\n",
       "    <tr>\n",
       "      <th>4</th>\n",
       "      <td>0.04</td>\n",
       "      <td>-0.107527</td>\n",
       "      <td>0.0</td>\n",
       "      <td>-0.146179</td>\n",
       "      <td>0.0</td>\n",
       "      <td>0.0</td>\n",
       "      <td>-114.678161</td>\n",
       "      <td>-125.306763</td>\n",
       "      <td>0.0</td>\n",
       "      <td>0.0</td>\n",
       "      <td>0.0</td>\n",
       "      <td>0.0</td>\n",
       "      <td>0.0</td>\n",
       "      <td>0.0</td>\n",
       "      <td>0</td>\n",
       "    </tr>\n",
       "  </tbody>\n",
       "</table>\n",
       "</div>"
      ],
      "text/plain": [
       "   national_inv  lead_time  in_transit_qty  forecast_3_month  potential_issue  \\\n",
       "0         -0.28  -0.107527             0.0         -0.146179              0.0   \n",
       "1         -0.20   1.000000             0.0         -0.146179              0.0   \n",
       "2         -0.20  -0.107527             0.0         -0.146179              0.0   \n",
       "3          0.00   0.000000             0.0         -0.146179              0.0   \n",
       "4          0.04  -0.107527             0.0         -0.146179              0.0   \n",
       "\n",
       "   pieces_past_due  perf_6_month_avg  perf_12_month_avg  local_bo_qty  \\\n",
       "0              0.0       -114.678161        -125.306763           0.0   \n",
       "1              0.0          0.252874           0.267874           0.0   \n",
       "2              0.0       -114.678161        -125.306763           0.0   \n",
       "3              0.0         -0.770115          -0.812176           0.0   \n",
       "4              0.0       -114.678161        -125.306763           0.0   \n",
       "\n",
       "   deck_risk  oe_constraint  ppap_risk  stop_auto_buy  rev_stop  \\\n",
       "0        0.0            0.0        0.0            0.0       0.0   \n",
       "1        0.0            0.0        0.0            0.0       0.0   \n",
       "2        0.0            0.0        0.0            0.0       0.0   \n",
       "3        0.0            0.0        0.0            0.0       0.0   \n",
       "4        0.0            0.0        0.0            0.0       0.0   \n",
       "\n",
       "   went_on_backorder  \n",
       "0                  0  \n",
       "1                  0  \n",
       "2                  0  \n",
       "3                  0  \n",
       "4                  0  "
      ]
     },
     "execution_count": 45,
     "metadata": {},
     "output_type": "execute_result"
    }
   ],
   "source": [
    "df = pd.read_csv('./data/cleaned_data.csv')\n",
    "df.head()"
   ]
  },
  {
   "cell_type": "code",
   "execution_count": 46,
   "metadata": {},
   "outputs": [
    {
     "data": {
      "text/plain": [
       "array([[142.25396209],\n",
       "       [-27.70818365],\n",
       "       [142.25420357],\n",
       "       ...,\n",
       "       [-27.47369857],\n",
       "       [-27.63104216],\n",
       "       [132.47141621]])"
      ]
     },
     "execution_count": 46,
     "metadata": {},
     "output_type": "execute_result"
    }
   ],
   "source": [
    "pca = PCA(n_components=0.95)\n",
    "X = pca.fit_transform(df.drop(columns=['went_on_backorder'], axis=1))\n",
    "X"
   ]
  },
  {
   "cell_type": "code",
   "execution_count": 47,
   "metadata": {},
   "outputs": [
    {
     "data": {
      "text/plain": [
       "array([[ 3.01855277e-03,  4.28408886e-03, -2.63592833e-03,\n",
       "         2.76174030e-03, -0.00000000e+00, -0.00000000e+00,\n",
       "        -6.76765495e-01, -7.34111407e-01,  5.50124802e-02,\n",
       "        -0.00000000e+00, -0.00000000e+00, -0.00000000e+00,\n",
       "        -7.02770117e-04,  0.00000000e+00]])"
      ]
     },
     "execution_count": 47,
     "metadata": {},
     "output_type": "execute_result"
    }
   ],
   "source": [
    "pca.components_"
   ]
  },
  {
   "cell_type": "code",
   "execution_count": 48,
   "metadata": {},
   "outputs": [
    {
     "data": {
      "text/plain": [
       "0       0\n",
       "1       0\n",
       "2       0\n",
       "3       0\n",
       "4       0\n",
       "       ..\n",
       "1899    1\n",
       "1900    1\n",
       "1901    1\n",
       "1902    1\n",
       "1903    1\n",
       "Name: went_on_backorder, Length: 1904, dtype: int64"
      ]
     },
     "execution_count": 48,
     "metadata": {},
     "output_type": "execute_result"
    }
   ],
   "source": [
    "y = df['went_on_backorder']\n",
    "y"
   ]
  },
  {
   "cell_type": "code",
   "execution_count": 49,
   "metadata": {},
   "outputs": [],
   "source": [
    "# Model Training\n",
    "models = {\n",
    "            \"Random Forest\": RandomForestClassifier(),\n",
    "            \"Decision Tree\": DecisionTreeClassifier(),\n",
    "            \"Gradient Boosting\": GradientBoostingClassifier(),\n",
    "            \"K-Neighbors Classifier\": KNeighborsClassifier(),\n",
    "            # \"XGBClassifier\": XGBClassifier(),\n",
    "            \"AdaBoost Classifier\": AdaBoostClassifier(),\n",
    "            }"
   ]
  },
  {
   "cell_type": "code",
   "execution_count": 50,
   "metadata": {},
   "outputs": [],
   "source": [
    "result = {}"
   ]
  },
  {
   "cell_type": "code",
   "execution_count": 51,
   "metadata": {},
   "outputs": [],
   "source": [
    "for i in list(models):\n",
    "    model = models[i]\n",
    "    model.fit(X_train, y_train)\n",
    "    y_pred = model.predict(X_test)\n",
    "    result[i] = accuracy_score(y_pred, y_test)"
   ]
  },
  {
   "cell_type": "code",
   "execution_count": 52,
   "metadata": {},
   "outputs": [
    {
     "data": {
      "text/plain": [
       "{'Random Forest': 0.9660574412532638,\n",
       " 'Decision Tree': 0.9530026109660574,\n",
       " 'Gradient Boosting': 0.9660574412532638,\n",
       " 'K-Neighbors Classifier': 0.9556135770234987,\n",
       " 'AdaBoost Classifier': 0.9608355091383812}"
      ]
     },
     "execution_count": 52,
     "metadata": {},
     "output_type": "execute_result"
    }
   ],
   "source": [
    "result"
   ]
  },
  {
   "cell_type": "code",
   "execution_count": null,
   "metadata": {},
   "outputs": [],
   "source": []
  },
  {
   "cell_type": "code",
   "execution_count": null,
   "metadata": {},
   "outputs": [],
   "source": []
  }
 ],
 "metadata": {
  "kernelspec": {
   "display_name": "venv",
   "language": "python",
   "name": "python3"
  },
  "language_info": {
   "codemirror_mode": {
    "name": "ipython",
    "version": 3
   },
   "file_extension": ".py",
   "mimetype": "text/x-python",
   "name": "python",
   "nbconvert_exporter": "python",
   "pygments_lexer": "ipython3",
   "version": "3.10.8"
  },
  "orig_nbformat": 4
 },
 "nbformat": 4,
 "nbformat_minor": 2
}
